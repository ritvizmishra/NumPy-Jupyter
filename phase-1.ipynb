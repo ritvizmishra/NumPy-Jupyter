{
 "cells": [
  {
   "cell_type": "markdown",
   "id": "f031613d",
   "metadata": {},
   "source": [
    "## **NumPy Arrays and Basics**\n",
    "Resource: Chai aur Code | ***Hitesh Chaudhary***"
   ]
  },
  {
   "cell_type": "code",
   "execution_count": 1,
   "id": "6b809de7",
   "metadata": {},
   "outputs": [],
   "source": [
    "import numpy as np"
   ]
  },
  {
   "cell_type": "markdown",
   "id": "d4f0111e",
   "metadata": {},
   "source": [
    "#### **Creating NumPy Arrays - 1D and 2D**\n",
    "> Try keeping similar datatypes as it keeps code optimized."
   ]
  },
  {
   "cell_type": "code",
   "execution_count": 12,
   "id": "fdbc35c8",
   "metadata": {},
   "outputs": [
    {
     "name": "stdout",
     "output_type": "stream",
     "text": [
      "1D array: [1 2 3 4]\n",
      "\n",
      "2D array: \n",
      "[[1 2 3 4]\n",
      " [5 6 7 8]]\n"
     ]
    }
   ],
   "source": [
    "arr_1D = np.array([1,2,3,4])\n",
    "print(f\"1D array: {arr_1D}\")\n",
    "\n",
    "arr_2D = np.array([[1,2,3,4], [5,6,7,8]])\n",
    "print(f\"\\n2D array: \\n{arr_2D}\")"
   ]
  },
  {
   "cell_type": "markdown",
   "id": "3a4b10aa",
   "metadata": {},
   "source": [
    "#### **Python Lists vs NumPy Arrays**\n",
    "- List multiplications duplicates n number of times.\n",
    "- Array multiplications multiplies elements with n.\n",
    "\n",
    "##### ***Differences***\n",
    "\n",
    "| Feature                     | Python List (`list`)             | NumPy Array (`np.array`)                 |\n",
    "|-----------------------------|----------------------------------|------------------------------------------|\n",
    "| **Data Type Support**       | Can hold mixed types             | Must be same type (e.g., all `int`, `float`) |\n",
    "| **Performance**             | Slower                          | Much faster (C-optimized)                |\n",
    "| **Memory Usage**            | More memory                     | Less memory (compact, contiguous)        |\n",
    "| **Vectorized Operations**   | Not supported (need loops)     | Supports element-wise ops (`+`, `*`, etc.) |\n",
    "| **Multidimensional Support**| Manual (lists of lists)         | Built-in (e.g., 2D, 3D arrays)           |\n",
    "| **Built-in Functions**      | Fewer (basic list methods)      | Many (e.g., `np.mean`, `np.sum`, etc.)   |\n",
    "| **Indexing/Slicing**        | Basic slicing                   | Advanced (boolean, fancy indexing)       |\n",
    "| **Broadcasting**            | Not supported                 | Automatic shape matching for ops      |\n"
   ]
  },
  {
   "cell_type": "code",
   "execution_count": 7,
   "id": "59cddf9e",
   "metadata": {},
   "outputs": [
    {
     "name": "stdout",
     "output_type": "stream",
     "text": [
      "Python list multiplication: [1, 2, 3, 4, 1, 2, 3, 4]\n",
      "Python array multiplication: [2 4 6 8]\n",
      "\n",
      "Time taken by list: 1.1423993110656738\n",
      "Time taken by array: 0.06411170959472656\n"
     ]
    }
   ],
   "source": [
    "py_list = [1,2,3,4]\n",
    "print(f\"Python list multiplication: {py_list*2}\")\n",
    "\n",
    "np_array = np.array([1,2,3,4])\n",
    "print(f\"Python array multiplication: {np_array*2}\")\n",
    "\n",
    "# Checking time of execution in list vs array:\n",
    "import time\n",
    "\n",
    "start = time.time()\n",
    "py_list = [i*2 for i in range (10000000)]\n",
    "print(f\"\\nTime taken by list: {time.time() - start}\")\n",
    "\n",
    "start = time.time()\n",
    "np_array = np.arange(10000000)*2\n",
    "print(f\"Time taken by array: {time.time() - start}\")"
   ]
  },
  {
   "cell_type": "markdown",
   "id": "80b48a25",
   "metadata": {},
   "source": [
    "#### **Types of arrays**\n",
    "- **Zeros and Ones Array**:\n",
    "    - Zeros: ```np.zeros((row_dimension, col_dimension))```\n",
    "    - Ones: ```np.ones((row_dimension, col_dimension))```"
   ]
  },
  {
   "cell_type": "code",
   "execution_count": 11,
   "id": "58708c7c",
   "metadata": {},
   "outputs": [
    {
     "name": "stdout",
     "output_type": "stream",
     "text": [
      "Zeros array: \n",
      "[[0. 0. 0. 0. 0. 0.]\n",
      " [0. 0. 0. 0. 0. 0.]\n",
      " [0. 0. 0. 0. 0. 0.]]\n",
      "\n",
      "Ones array: \n",
      "[[1. 1. 1.]\n",
      " [1. 1. 1.]\n",
      " [1. 1. 1.]]\n"
     ]
    }
   ],
   "source": [
    "zeros = np.zeros((3,6))\n",
    "print(f\"Zeros array: \\n{zeros}\")\n",
    "\n",
    "ones = np.ones((3,3))\n",
    "print(f\"\\nOnes array: \\n{ones}\")"
   ]
  },
  {
   "cell_type": "markdown",
   "id": "27840c9f",
   "metadata": {},
   "source": [
    "- **Full Array**:\n",
    "    - Full: ```np.full((row_dimension, col_dimension), constant)```"
   ]
  },
  {
   "cell_type": "code",
   "execution_count": 13,
   "id": "c6a25dfe",
   "metadata": {},
   "outputs": [
    {
     "name": "stdout",
     "output_type": "stream",
     "text": [
      "Full array: \n",
      "[[7 7 7]\n",
      " [7 7 7]]\n"
     ]
    }
   ],
   "source": [
    "full = np.full((2,3), 7)\n",
    "print(f\"Full array: \\n{full}\")"
   ]
  },
  {
   "cell_type": "markdown",
   "id": "b89bf81b",
   "metadata": {},
   "source": [
    "- **Random Value Arrays**:\n",
    "    - This uses methods from random class, and generates numbers between ```0``` and ```1```.\n",
    "    - Random array: ```np.random.random((row_dimension, col_dimension))```"
   ]
  },
  {
   "cell_type": "code",
   "execution_count": 14,
   "id": "7db7455e",
   "metadata": {},
   "outputs": [
    {
     "name": "stdout",
     "output_type": "stream",
     "text": [
      "Random value array: \n",
      "[[0.42234893 0.39009881 0.24002263 0.53542066]\n",
      " [0.67061561 0.9388172  0.56781543 0.00455007]\n",
      " [0.19124736 0.75064606 0.81033056 0.45288485]\n",
      " [0.21338331 0.70570793 0.99119702 0.49741375]]\n"
     ]
    }
   ],
   "source": [
    "random = np.random.random((4,4))\n",
    "print(f\"Random value array: \\n{random}\")"
   ]
  },
  {
   "cell_type": "markdown",
   "id": "923331ad",
   "metadata": {},
   "source": [
    "- **Sequence Array**:\n",
    "    - Sequence: ```np.arange(start, end, steps)```"
   ]
  },
  {
   "cell_type": "code",
   "execution_count": 15,
   "id": "8d8f6fb8",
   "metadata": {},
   "outputs": [
    {
     "name": "stdout",
     "output_type": "stream",
     "text": [
      "Sequence array: [ 2  4  6  8 10 12 14 16 18]\n"
     ]
    }
   ],
   "source": [
    "sequence = np.arange(2, 20, 2)\n",
    "print(f\"Sequence array: {sequence}\")"
   ]
  },
  {
   "cell_type": "markdown",
   "id": "45d77a5f",
   "metadata": {},
   "source": [
    "#### **Vector, Matrix and Tensor**\n",
    "- **Vector**: A 1D NumPy array (e.g., `[1, 2, 3]`) representing a list of values.\n",
    "- **Matrix**: A 2D NumPy array with rows and columns (e.g., `[[1, 2], [3, 4]]`).\n",
    "- **Tensor**: A general n-dimensional NumPy array (e.g., 3D: `[[[1], [2]], [[3], [4]]]`).\n"
   ]
  },
  {
   "cell_type": "code",
   "execution_count": 19,
   "id": "a2e5bdeb",
   "metadata": {},
   "outputs": [
    {
     "name": "stdout",
     "output_type": "stream",
     "text": [
      "Vector: \n",
      "[1 2 3]\n",
      "\n",
      "Matrix: \n",
      "[[1 2 3]\n",
      " [4 5 6]]\n",
      "\n",
      "Tensor: \n",
      "[[[ 1  2  3]\n",
      "  [ 4  5  6]]\n",
      "\n",
      " [[ 7  8  9]\n",
      "  [10 11 12]]\n",
      "\n",
      " [[13 14 15]\n",
      "  [15 16 17]]]\n"
     ]
    }
   ],
   "source": [
    "vector = np.array([1,2,3])\n",
    "print(f\"Vector: \\n{vector}\")\n",
    "\n",
    "matrix = np.array([[1,2,3],\n",
    "                   [4,5,6]])\n",
    "print(f\"\\nMatrix: \\n{matrix}\")\n",
    "\n",
    "tensor = np.array([[[1,2,3], [4,5,6]],\n",
    "                   [[7,8,9], [10,11,12]],\n",
    "                   [[13,14,15], [15,16,17]]])\n",
    "print(f\"\\nTensor: \\n{tensor}\")"
   ]
  }
 ],
 "metadata": {
  "kernelspec": {
   "display_name": ".venv",
   "language": "python",
   "name": "python3"
  },
  "language_info": {
   "codemirror_mode": {
    "name": "ipython",
    "version": 3
   },
   "file_extension": ".py",
   "mimetype": "text/x-python",
   "name": "python",
   "nbconvert_exporter": "python",
   "pygments_lexer": "ipython3",
   "version": "3.13.3"
  }
 },
 "nbformat": 4,
 "nbformat_minor": 5
}
