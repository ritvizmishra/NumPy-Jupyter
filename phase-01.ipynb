{
 "cells": [
  {
   "cell_type": "markdown",
   "id": "f031613d",
   "metadata": {},
   "source": [
    "## **NumPy Arrays and Basics**\n",
    "Resource: Chai aur Code | *Hitesh Chaudhary*"
   ]
  },
  {
   "cell_type": "code",
   "execution_count": 2,
   "id": "6b809de7",
   "metadata": {},
   "outputs": [],
   "source": [
    "import numpy as np"
   ]
  },
  {
   "cell_type": "markdown",
   "id": "d4f0111e",
   "metadata": {},
   "source": [
    "#### **Creating NumPy Arrays - 1D and 2D**\n",
    "> Try keeping similar datatypes as it keeps code optimized."
   ]
  },
  {
   "cell_type": "code",
   "execution_count": 3,
   "id": "fdbc35c8",
   "metadata": {},
   "outputs": [
    {
     "name": "stdout",
     "output_type": "stream",
     "text": [
      "1D array: [1 2 3 4]\n",
      "\n",
      "2D array: \n",
      "[[1 2 3 4]\n",
      " [5 6 7 8]]\n"
     ]
    }
   ],
   "source": [
    "arr_1D = np.array([1,2,3,4])\n",
    "print(f\"1D array: {arr_1D}\")\n",
    "\n",
    "arr_2D = np.array([[1,2,3,4], [5,6,7,8]])\n",
    "print(f\"\\n2D array: \\n{arr_2D}\")"
   ]
  },
  {
   "cell_type": "markdown",
   "id": "3a4b10aa",
   "metadata": {},
   "source": [
    "#### **Python Lists vs NumPy Arrays**\n",
    "- List multiplications duplicates n number of times.\n",
    "- Array multiplications multiplies elements with n.\n",
    "\n",
    "##### ***Differences***\n",
    "\n",
    "| Feature                     | Python List (`list`)             | NumPy Array (`np.array`)                 |\n",
    "|-----------------------------|----------------------------------|------------------------------------------|\n",
    "| **Data Type Support**       | Can hold mixed types             | Must be same type (e.g., all `int`, `float`) |\n",
    "| **Performance**             | Slower                          | Much faster (C-optimized)                |\n",
    "| **Memory Usage**            | More memory                     | Less memory (compact, contiguous)        |\n",
    "| **Vectorized Operations**   | Not supported (need loops)     | Supports element-wise ops (`+`, `*`, etc.) |\n",
    "| **Multidimensional Support**| Manual (lists of lists)         | Built-in (e.g., 2D, 3D arrays)           |\n",
    "| **Built-in Functions**      | Fewer (basic list methods)      | Many (e.g., `np.mean`, `np.sum`, etc.)   |\n",
    "| **Indexing/Slicing**        | Basic slicing                   | Advanced (boolean, fancy indexing)       |\n",
    "| **Broadcasting**            | Not supported                 | Automatic shape matching for ops      |\n"
   ]
  },
  {
   "cell_type": "code",
   "execution_count": 4,
   "id": "59cddf9e",
   "metadata": {},
   "outputs": [
    {
     "name": "stdout",
     "output_type": "stream",
     "text": [
      "Python list multiplication: [1, 2, 3, 4, 1, 2, 3, 4]\n",
      "Python array multiplication: [2 4 6 8]\n",
      "\n",
      "Time taken by list: 0.666440486907959\n",
      "Time taken by array: 0.05787372589111328\n"
     ]
    }
   ],
   "source": [
    "py_list = [1,2,3,4]\n",
    "print(f\"Python list multiplication: {py_list*2}\")\n",
    "\n",
    "np_array = np.array([1,2,3,4])\n",
    "print(f\"Python array multiplication: {np_array*2}\")\n",
    "\n",
    "# Checking time of execution in list vs array:\n",
    "import time\n",
    "\n",
    "start = time.time()\n",
    "py_list = [i*2 for i in range (10000000)]\n",
    "print(f\"\\nTime taken by list: {time.time() - start}\")\n",
    "\n",
    "start = time.time()\n",
    "np_array = np.arange(10000000)*2\n",
    "print(f\"Time taken by array: {time.time() - start}\")"
   ]
  },
  {
   "cell_type": "markdown",
   "id": "80b48a25",
   "metadata": {},
   "source": [
    "#### **Types of arrays**\n",
    "- **Zeros and Ones Array**:\n",
    "    - Zeros: ```np.zeros((row_dimension, col_dimension))```\n",
    "    - Ones: ```np.ones((row_dimension, col_dimension))```"
   ]
  },
  {
   "cell_type": "code",
   "execution_count": 5,
   "id": "58708c7c",
   "metadata": {},
   "outputs": [
    {
     "name": "stdout",
     "output_type": "stream",
     "text": [
      "Zeros array: \n",
      "[[0. 0. 0. 0. 0. 0.]\n",
      " [0. 0. 0. 0. 0. 0.]\n",
      " [0. 0. 0. 0. 0. 0.]]\n",
      "\n",
      "Ones array: \n",
      "[[1. 1. 1.]\n",
      " [1. 1. 1.]\n",
      " [1. 1. 1.]]\n"
     ]
    }
   ],
   "source": [
    "zeros = np.zeros((3,6))\n",
    "print(f\"Zeros array: \\n{zeros}\")\n",
    "\n",
    "ones = np.ones((3,3))\n",
    "print(f\"\\nOnes array: \\n{ones}\")"
   ]
  },
  {
   "cell_type": "markdown",
   "id": "27840c9f",
   "metadata": {},
   "source": [
    "- **Full Array**:\n",
    "    - Full: ```np.full((row_dimension, col_dimension), constant)```"
   ]
  },
  {
   "cell_type": "code",
   "execution_count": 6,
   "id": "c6a25dfe",
   "metadata": {},
   "outputs": [
    {
     "name": "stdout",
     "output_type": "stream",
     "text": [
      "Full array: \n",
      "[[7 7 7]\n",
      " [7 7 7]]\n"
     ]
    }
   ],
   "source": [
    "full = np.full((2,3), 7)\n",
    "print(f\"Full array: \\n{full}\")"
   ]
  },
  {
   "cell_type": "markdown",
   "id": "b89bf81b",
   "metadata": {},
   "source": [
    "- **Random Value Arrays**:\n",
    "    - This uses methods from random class, and generates numbers between ```0``` and ```1```.\n",
    "    - Random array: ```np.random.random((row_dimension, col_dimension))```"
   ]
  },
  {
   "cell_type": "code",
   "execution_count": 7,
   "id": "7db7455e",
   "metadata": {},
   "outputs": [
    {
     "name": "stdout",
     "output_type": "stream",
     "text": [
      "Random value array: \n",
      "[[0.06735728 0.532101   0.54536686 0.8785809 ]\n",
      " [0.45692845 0.28741234 0.92483429 0.51263007]\n",
      " [0.98109818 0.57539737 0.13078478 0.41589456]\n",
      " [0.26898781 0.12442973 0.73999429 0.48015942]]\n"
     ]
    }
   ],
   "source": [
    "random = np.random.random((4,4))\n",
    "print(f\"Random value array: \\n{random}\")"
   ]
  },
  {
   "cell_type": "markdown",
   "id": "923331ad",
   "metadata": {},
   "source": [
    "- **Sequence Array**:\n",
    "    - Sequence: ```np.arange(start, end, steps)```"
   ]
  },
  {
   "cell_type": "code",
   "execution_count": 8,
   "id": "8d8f6fb8",
   "metadata": {},
   "outputs": [
    {
     "name": "stdout",
     "output_type": "stream",
     "text": [
      "Sequence array: [ 2  4  6  8 10 12 14 16 18]\n"
     ]
    }
   ],
   "source": [
    "sequence = np.arange(2, 20, 2)\n",
    "print(f\"Sequence array: {sequence}\")"
   ]
  },
  {
   "cell_type": "markdown",
   "id": "45d77a5f",
   "metadata": {},
   "source": [
    "#### **Vector, Matrix and Tensor**\n",
    "- **Vector**: A 1D NumPy array (e.g., `[1, 2, 3]`) representing a list of values.\n",
    "- **Matrix**: A 2D NumPy array with rows and columns (e.g., `[[1, 2], [3, 4]]`).\n",
    "- **Tensor**: A general n-dimensional NumPy array (e.g., 3D: `[[[1], [2]], [[3], [4]]]`).\n"
   ]
  },
  {
   "cell_type": "code",
   "execution_count": 9,
   "id": "a2e5bdeb",
   "metadata": {},
   "outputs": [
    {
     "name": "stdout",
     "output_type": "stream",
     "text": [
      "Vector: \n",
      "[1 2 3]\n",
      "\n",
      "Matrix: \n",
      "[[1 2 3]\n",
      " [4 5 6]]\n",
      "\n",
      "Tensor: \n",
      "[[[ 1  2  3]\n",
      "  [ 4  5  6]]\n",
      "\n",
      " [[ 7  8  9]\n",
      "  [10 11 12]]\n",
      "\n",
      " [[13 14 15]\n",
      "  [15 16 17]]]\n"
     ]
    }
   ],
   "source": [
    "vector = np.array([1,2,3])\n",
    "print(f\"Vector: \\n{vector}\")\n",
    "\n",
    "matrix = np.array([[1,2,3],\n",
    "                   [4,5,6]])\n",
    "print(f\"\\nMatrix: \\n{matrix}\")\n",
    "\n",
    "tensor = np.array([[[1,2,3], [4,5,6]],\n",
    "                   [[7,8,9], [10,11,12]],\n",
    "                   [[13,14,15], [15,16,17]]])\n",
    "print(f\"\\nTensor: \\n{tensor}\")"
   ]
  },
  {
   "cell_type": "markdown",
   "id": "2a469c7c",
   "metadata": {},
   "source": [
    "#### **Array Properties**\n",
    "- **Shape**: \n",
    "    - ```shape```: Returns a tuple representing the number of elements along each dimension (e.g., `(3, 2)` for 3 rows and 2 columns).\n",
    "- **Dimensions** \n",
    "    - ```ndim```: Returns the number of dimensions (axes) of the array.\n",
    "- **Size** \n",
    "    - ```size```: Returns the total number of elements in the array.\n",
    "- **Data Type** \n",
    "    - ```dtype```: Returns the data type of elements stored in the array (e.g., `int32`, `float64`)."
   ]
  },
  {
   "cell_type": "code",
   "execution_count": 11,
   "id": "a6727bf5",
   "metadata": {},
   "outputs": [
    {
     "name": "stdout",
     "output_type": "stream",
     "text": [
      "Tensor shape: (3, 2, 3)\n",
      "Tensor dimension: 3\n",
      "Tensor size: 18\n",
      "Tensor datatype: int64\n"
     ]
    }
   ],
   "source": [
    "tensor = np.array([[[1,2,3], [4,5,6]],\n",
    "                   [[7,8,9], [10,11,12]],\n",
    "                   [[13,14,15], [15,16,17]]])\n",
    "\n",
    "print(f\"Tensor shape: {tensor.shape}\")\n",
    "print(f\"Tensor dimension: {tensor.ndim}\")\n",
    "print(f\"Tensor size: {tensor.size}\")\n",
    "print(f\"Tensor datatype: {tensor.dtype}\")"
   ]
  },
  {
   "cell_type": "markdown",
   "id": "635c6f14",
   "metadata": {},
   "source": [
    "#### **Array Reshaping & Flattening**\n",
    "- **Reshaping** means changing the shape of an existing array without changing its data.\n",
    "    - Use `np.reshape(array, new_shape)` to convert the array into a new shape (rows × columns).\n",
    "\n",
    "- **Flattening** means converting a multi-dimensional array into a 1D array.\n",
    "    - Use `.flatten()` or `.ravel()` to do this.\n",
    "    - `.flatten()` returns copy, instead of view.\n",
    "    - `.ravel()` returns view, instead of copy.\n",
    "- **Transpose** means flipping the array over its diagonal — converting rows to columns and vice versa.\n",
    "    - Use `.T` or `np.transpose(array)` to perform the transpose."
   ]
  },
  {
   "cell_type": "code",
   "execution_count": 16,
   "id": "3706dd6e",
   "metadata": {},
   "outputs": [
    {
     "name": "stdout",
     "output_type": "stream",
     "text": [
      "Original array: [ 0  1  2  3  4  5  6  7  8  9 10 11]\n",
      "\n",
      "Reshaped array: \n",
      "[[ 0  1  2]\n",
      " [ 3  4  5]\n",
      " [ 6  7  8]\n",
      " [ 9 10 11]]\n",
      "\n",
      "Flattened array: [ 0  1  2  3  4  5  6  7  8  9 10 11]\n",
      "\n",
      "Ravelled array: [ 0  1  2  3  4  5  6  7  8  9 10 11]\n",
      "\n",
      "Transposed array: \n",
      "[[ 0  3  6  9]\n",
      " [ 1  4  7 10]\n",
      " [ 2  5  8 11]]\n"
     ]
    }
   ],
   "source": [
    "arr = np.arange(12)\n",
    "print(f\"Original array: {arr}\")\n",
    "\n",
    "reshaped_arr = arr.reshape(4,3)\n",
    "print(f\"\\nReshaped array: \\n{reshaped_arr}\")\n",
    "\n",
    "flattened_arr = reshaped_arr.flatten()\n",
    "print(f\"\\nFlattened array: {flattened_arr}\")\n",
    "\n",
    "raveled_arr = reshaped_arr.ravel()\n",
    "print(f\"\\nRavelled array: {raveled_arr}\")\n",
    "\n",
    "transposed_arr = reshaped_arr.T\n",
    "print(f\"\\nTransposed array: \\n{transposed_arr}\")"
   ]
  }
 ],
 "metadata": {
  "kernelspec": {
   "display_name": ".venv",
   "language": "python",
   "name": "python3"
  },
  "language_info": {
   "codemirror_mode": {
    "name": "ipython",
    "version": 3
   },
   "file_extension": ".py",
   "mimetype": "text/x-python",
   "name": "python",
   "nbconvert_exporter": "python",
   "pygments_lexer": "ipython3",
   "version": "3.13.3"
  }
 },
 "nbformat": 4,
 "nbformat_minor": 5
}
