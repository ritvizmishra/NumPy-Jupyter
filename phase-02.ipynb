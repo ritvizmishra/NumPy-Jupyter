{
 "cells": [
  {
   "cell_type": "markdown",
   "id": "fc929e7d",
   "metadata": {},
   "source": [
    "## **NumPy Array Operations**\n"
   ]
  },
  {
   "cell_type": "code",
   "execution_count": 2,
   "id": "c85c6e15",
   "metadata": {},
   "outputs": [],
   "source": [
    "import numpy as np"
   ]
  },
  {
   "cell_type": "markdown",
   "id": "a6d60410",
   "metadata": {},
   "source": [
    "#### **Array Slicing - 1D and 2D**\n",
    "- `:` means select all.\n",
    "- `start:stop:step` controls the slicing direction and stride.\n",
    "- Negative steps `(-1)` are used for reversing.\n",
    "\n",
    "a. **1D Array**"
   ]
  },
  {
   "cell_type": "code",
   "execution_count": 4,
   "id": "7312de93",
   "metadata": {},
   "outputs": [
    {
     "name": "stdout",
     "output_type": "stream",
     "text": [
      "Sliced array: [30 40 50 60 70 80]\n",
      "Step sliced array: [10 30 50 70 90]\n",
      "Reversely indexed: 70\n"
     ]
    }
   ],
   "source": [
    "arr_1D = np.array([10,20,30,40,50,60,70,80,90,100])\n",
    "\n",
    "# slicing:\n",
    "sliced_arr = arr_1D[2:8]\n",
    "print(f\"Sliced array: {sliced_arr}\")\n",
    "\n",
    "# step slicing\n",
    "step_sliced_arr = arr_1D[0:9:2]\n",
    "print(f\"Step sliced array: {step_sliced_arr}\")\n",
    "\n",
    "# reverse indexing\n",
    "print(f\"Reversely indexed: {arr_1D[-4]}\")"
   ]
  },
  {
   "cell_type": "markdown",
   "id": "fcd3f7b1",
   "metadata": {},
   "source": [
    "b. **2D Array**"
   ]
  },
  {
   "cell_type": "code",
   "execution_count": 9,
   "id": "25a9c65f",
   "metadata": {},
   "outputs": [
    {
     "name": "stdout",
     "output_type": "stream",
     "text": [
      "Element on the position: 8\n",
      "Elements in row requested: [4 5 6]\n",
      "Elements in column requested: [1 4 7]\n"
     ]
    }
   ],
   "source": [
    "arr_2D = np.array([[1,2,3],\n",
    "                   [4,5,6],\n",
    "                   [7,8,9]])\n",
    "\n",
    "# basic positioning:\n",
    "print(f\"Element on the position: {arr_2D[2,1]}\")\n",
    "\n",
    "# access entire row:\n",
    "print(f\"Elements in row requested: {arr_2D[1]}\")\n",
    "\n",
    "# access entire column:\n",
    "print(f\"Elements in column requested: {arr_2D[:,0]}\")"
   ]
  },
  {
   "cell_type": "markdown",
   "id": "6e9f506f",
   "metadata": {},
   "source": [
    "#### **Array Sorting**\n",
    "NumPy provides powerful functions to sort arrays using `np.sort()` or `.sort()` method.\n",
    "- `np.sort()` returns a sorted copy.\n",
    "- `arr.sort()` sorts in-place.\n",
    "\n",
    "2D Array:\n",
    "- `np.sort(array, axis=0/1)`\n",
    "    - `axis=0`: Sorts column-wise\n",
    "    - `axis=1`: Sorts row-wise"
   ]
  },
  {
   "cell_type": "code",
   "execution_count": 12,
   "id": "23274442",
   "metadata": {},
   "outputs": [
    {
     "name": "stdout",
     "output_type": "stream",
     "text": [
      "Unsorted 1D array: [3 1 2 5 6 3 9 0 7 1 8 4]\n",
      "Sorted 1D array: [0 1 1 2 3 3 4 5 6 7 8 9]\n",
      "\n",
      "2D array sorted column-wise: \n",
      "[[1 1]\n",
      " [2 3]\n",
      " [2 3]]\n",
      "2D array sorted row-wise: \n",
      "[[1 3]\n",
      " [1 2]\n",
      " [2 3]]\n"
     ]
    }
   ],
   "source": [
    "unsorted_arr_1D = np.array([3,1,2,5,6,3,9,0,7,1,8,4])\n",
    "print(f\"Unsorted 1D array: {unsorted_arr_1D}\")\n",
    "\n",
    "sorted_arr_1D = np.sort(unsorted_arr_1D)\n",
    "print(f\"Sorted 1D array: {sorted_arr_1D}\")\n",
    "\n",
    "unsorted_arr_2D = np.array([[1,3],\n",
    "                            [2,1],\n",
    "                            [2,3]])\n",
    "print(f\"\\n2D array sorted column-wise: \\n{np.sort(unsorted_arr_2D, axis=0)}\")\n",
    "print(f\"2D array sorted row-wise: \\n{np.sort(unsorted_arr_2D, axis=1)}\")"
   ]
  },
  {
   "cell_type": "markdown",
   "id": "a03788e4",
   "metadata": {},
   "source": [
    "#### **Filtering**\n",
    "- **Filtering** allows you to extract elements that meet a condition.\n",
    "- You create a **boolean mask** using comparison operators, and apply it to the array.\n",
    "- Conditions can be combined using `&` (and), `|` (or), `~`(not)\n",
    "> Always wrap conditions in parentheses when combining them.\n",
    "1. **One-liner:**"
   ]
  },
  {
   "cell_type": "code",
   "execution_count": 13,
   "id": "0f0c886e",
   "metadata": {},
   "outputs": [
    {
     "name": "stdout",
     "output_type": "stream",
     "text": [
      "Odd numbers: [1 3 5 7 9]\n"
     ]
    }
   ],
   "source": [
    "numbers = np.array([1,2,3,4,5,6,7,8,9,10])\n",
    "odd_numbers = numbers[numbers % 2 != 0]\n",
    "\n",
    "print(f\"Odd numbers: {odd_numbers}\")"
   ]
  },
  {
   "cell_type": "markdown",
   "id": "1705024e",
   "metadata": {},
   "source": [
    "2. **Filtering with Mask:**"
   ]
  },
  {
   "cell_type": "code",
   "execution_count": 14,
   "id": "32e0e4ce",
   "metadata": {},
   "outputs": [
    {
     "name": "stdout",
     "output_type": "stream",
     "text": [
      "Numbers greater than 5: [ 6  7  8  9 10]\n"
     ]
    }
   ],
   "source": [
    "numbers = np.array([1,2,3,4,5,6,7,8,9,10])\n",
    "mask = numbers > 5\n",
    "\n",
    "print(f\"Numbers greater than 5: {numbers[mask]}\")"
   ]
  },
  {
   "cell_type": "markdown",
   "id": "76d70afd",
   "metadata": {},
   "source": [
    "3. **Combining conditions:**"
   ]
  },
  {
   "cell_type": "code",
   "execution_count": 15,
   "id": "be11dff8",
   "metadata": {},
   "outputs": [
    {
     "name": "stdout",
     "output_type": "stream",
     "text": [
      "Even numbers between 2 and 9: [4 6 8]\n"
     ]
    }
   ],
   "source": [
    "numbers = np.array([1,2,3,4,5,6,7,8,9,10])\n",
    "mask = (numbers > 2) & (numbers < 9) & (numbers % 2 == 0)\n",
    "\n",
    "print(f\"Even numbers between 2 and 9: {numbers[mask]}\")"
   ]
  },
  {
   "cell_type": "markdown",
   "id": "3816a48f",
   "metadata": {},
   "source": [
    "#### **Fancy Indexing & np.where()**\n",
    "- Fancy indexing lets you access multiple specific indices at once using a list or array of indices.\n",
    "    - It creates a copy, not a view.\n",
    "-  np.where() is used for Conditional Element Selection\n",
    "    - `np.where(condition)` returns the indices where condition is `True`.\n",
    "    - `np.where(condition, x, y)` returns `x` if condition is `True`, else `y`.\n",
    "    - `np.where()` is great for quick element-wise conditional logic without loops.\n"
   ]
  },
  {
   "cell_type": "code",
   "execution_count": 19,
   "id": "0ea77f46",
   "metadata": {},
   "outputs": [
    {
     "name": "stdout",
     "output_type": "stream",
     "text": [
      "Extracted using fancy indexing: [3 5 8]\n",
      "Extracted using only where: [4 5 6 7]\n",
      "Extracted using conditional where: ['o' 'e' 'o' 'e' 'o' 'e' 'o' 'e' 'o' 'e']\n"
     ]
    }
   ],
   "source": [
    "numbers = np.array([1,2,3,4,5,6,7,8,9,10])\n",
    "\n",
    "fancy_indices = [2,4,7]\n",
    "print(f\"Extracted using fancy indexing: {numbers[fancy_indices]}\")\n",
    "\n",
    "only_where = np.where((numbers > 3) & (numbers < 8))\n",
    "print(f\"Extracted using only where: {numbers[only_where]}\")\n",
    "\n",
    "conditional_where = np.where(numbers % 2 != 0, 'o', 'e')\n",
    "print(f\"Extracted using conditional where: {conditional_where}\")"
   ]
  },
  {
   "cell_type": "markdown",
   "id": "063d07d0",
   "metadata": {},
   "source": [
    "#### **Adding and Removing**\n",
    "1. **Concatenation:**"
   ]
  },
  {
   "cell_type": "code",
   "execution_count": null,
   "id": "e390c629",
   "metadata": {},
   "outputs": [
    {
     "name": "stdout",
     "output_type": "stream",
     "text": [
      "Combined array is: [1 2 3 4 5 6]\n"
     ]
    }
   ],
   "source": [
    "arr_1 = np.array([1,2,3])\n",
    "arr_2 = np.array([4,5,6])\n",
    "\n",
    "combined_arr = np.concatenate((arr_1, arr_2))\n",
    "print(f\"Combined array is: {combined_arr}\")"
   ]
  },
  {
   "cell_type": "markdown",
   "id": "ca1d5033",
   "metadata": {},
   "source": [
    "3. **Checking compatibility:**"
   ]
  },
  {
   "cell_type": "code",
   "execution_count": null,
   "id": "e67a0517",
   "metadata": {},
   "outputs": [
    {
     "name": "stdout",
     "output_type": "stream",
     "text": [
      "Both of these arrays are compatible: False\n"
     ]
    }
   ],
   "source": [
    "arr_1 = np.array([[1,2,3,4],\n",
    "                  [0,1,6,7]])\n",
    "arr_2 = np.array([[1,2,3],\n",
    "                  [0,1,6]])\n",
    "print(f\"Both of these arrays are compatible: {arr_2.shape == arr_1.shapeb}\")"
   ]
  },
  {
   "cell_type": "markdown",
   "id": "8f730831",
   "metadata": {},
   "source": [
    "4. **Adding rows (vertical stacking) or columns (horizontal stacking):**\n",
    "- `np.array` syntax: you need a single iterable of rows, not two separate arguments.\n",
    "- Row length mismatch: your `new_row` must have the same number of columns as `og_arr`."
   ]
  },
  {
   "cell_type": "code",
   "execution_count": 30,
   "id": "91a6a7f3",
   "metadata": {},
   "outputs": [
    {
     "name": "stdout",
     "output_type": "stream",
     "text": [
      "Stacking a new row: \n",
      "[[ 2  3  5]\n",
      " [ 5  8  9]\n",
      " [29 10 15]]\n",
      "\n",
      "Stacking a new column: \n",
      "[[2 3 5 2]\n",
      " [5 8 9 9]]\n"
     ]
    }
   ],
   "source": [
    "og_arr = np.array([[2,3,5],\n",
    "                  [5,8,9]])\n",
    "new_row = np.array([29,10,15])\n",
    "\n",
    "with_new_row = np.vstack((og_arr, new_row))\n",
    "print(f\"Stacking a new row: \\n{with_new_row}\")\n",
    "\n",
    "new_col = np.array([[2],\n",
    "                    [9]])\n",
    "with_new_col = np.hstack((og_arr, new_col))\n",
    "print(f\"\\nStacking a new column: \\n{with_new_col}\")"
   ]
  },
  {
   "cell_type": "markdown",
   "id": "6bbd6d28",
   "metadata": {},
   "source": [
    "5. **Deleting**\n",
    "- NumPy uses the `np.delete()` function to remove elements from arrays.\n",
    "- It **returns a new array** (original remains unchanged).\n",
    "- Works on both 1D and 2D arrays.\n",
    "- `np.delete(array, obj, axis=None)`\n",
    "    - `array`: The input array\n",
    "    - `obj`: Index (or list of indices) to delete\n",
    "    - `axis`:\n",
    "        - `None` (default): flattens the array before deletion\n",
    "        - `0`: delete row(s)\n",
    "        - `1`: delete column(s)"
   ]
  },
  {
   "cell_type": "code",
   "execution_count": 38,
   "id": "13273bdf",
   "metadata": {},
   "outputs": [
    {
     "name": "stdout",
     "output_type": "stream",
     "text": [
      "Array after deletion: [ 1  2  5  6  7  9 10]\n",
      "\n",
      "Array after row deletion: \n",
      "[[1 2 3]\n",
      " [4 5 6]]\n",
      "\n",
      "Array after col deletion: \n",
      "[[1 2]\n",
      " [4 5]\n",
      " [7 8]]\n",
      "\n",
      "Flatten array after deletion: [1 2 4 6 7 9]\n"
     ]
    }
   ],
   "source": [
    "arr_1 = np.array([1,2,3,4,5,6,7,8,9,10])\n",
    "arr_2 = np.array([[1,2,3],\n",
    "                  [4,5,6],\n",
    "                  [7,8,9]])\n",
    "\n",
    "deleted_arr = np.delete(arr_1,(2,3,7))\n",
    "print(f\"Array after deletion: {deleted_arr}\")\n",
    "\n",
    "deleted_row = np.delete(arr_2, 2, axis=0)\n",
    "print(f\"\\nArray after row deletion: \\n{deleted_row}\")\n",
    "\n",
    "deleted_col = np.delete(arr_2, 2, axis=1)\n",
    "print(f\"\\nArray after col deletion: \\n{deleted_col}\")\n",
    "\n",
    "flatten_deleted_arr = np.delete(arr_2, (2,4,7), axis=None)\n",
    "print(f\"\\nFlatten array after deletion: {flatten_deleted_arr}\")"
   ]
  }
 ],
 "metadata": {
  "kernelspec": {
   "display_name": ".venv",
   "language": "python",
   "name": "python3"
  },
  "language_info": {
   "codemirror_mode": {
    "name": "ipython",
    "version": 3
   },
   "file_extension": ".py",
   "mimetype": "text/x-python",
   "name": "python",
   "nbconvert_exporter": "python",
   "pygments_lexer": "ipython3",
   "version": "3.13.3"
  }
 },
 "nbformat": 4,
 "nbformat_minor": 5
}
