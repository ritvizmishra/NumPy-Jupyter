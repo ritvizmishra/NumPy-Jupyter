{
 "cells": [
  {
   "cell_type": "markdown",
   "id": "fe435f46",
   "metadata": {},
   "source": [
    "## **NumPy Advance Operations**\n",
    "> Using a business example."
   ]
  },
  {
   "cell_type": "code",
   "execution_count": null,
   "id": "7b9004e2",
   "metadata": {},
   "outputs": [],
   "source": [
    "import numpy as np \n",
    "import matplotlib.pyplot as plt "
   ]
  },
  {
   "cell_type": "markdown",
   "id": "cfcf96fa",
   "metadata": {},
   "source": [
    "**Data structure:** *`[restaurant_id, 2021, 2022, 2023, 2024]`*\n",
    "| S.No | 2021 Sales | 2022 Sales | 2023 Sales | 2024 Sales | Restaurant      |\n",
    "|------|----------|----------|----------|----------|-----------------|\n",
    "| 1    | 150000   | 180000   | 220000   | 250000   | Paradise Biryani|\n",
    "| 2    | 120000   | 140000   | 160000   | 190000   | Beijing Bites   |\n",
    "| 3    | 200000   | 230000   | 260000   | 300000   | Pizza Hub       |\n",
    "| 4    | 180000   | 210000   | 240000   | 270000   | Burger Point    |\n",
    "| 5    | 160000   | 185000   | 205000   | 230000   | Chai Point      |\n"
   ]
  },
  {
   "cell_type": "markdown",
   "id": "79727fef",
   "metadata": {},
   "source": [
    "### **Zomata Sales Data Analysis**"
   ]
  },
  {
   "cell_type": "code",
   "execution_count": 38,
   "id": "70a0c997",
   "metadata": {},
   "outputs": [
    {
     "name": "stdout",
     "output_type": "stream",
     "text": [
      "Sales Data Shape: (5, 5)\n",
      "\n",
      "Sales data of first three restaurants: \n",
      "[[     1 150000 180000 220000 250000]\n",
      " [     2 120000 140000 160000 190000]\n",
      " [     3 200000 230000 260000 300000]]\n",
      "\n",
      "Restaurant sales without id: \n",
      "[[150000 180000 220000 250000]\n",
      " [120000 140000 160000 190000]\n",
      " [200000 230000 260000 300000]\n",
      " [180000 210000 240000 270000]\n",
      " [160000 185000 205000 230000]]\n"
     ]
    }
   ],
   "source": [
    "sales_data = np.array([\n",
    "    [1, 150000, 180000, 220000, 250000], # Paradise Biryani\n",
    "    [2, 120000, 140000, 160000, 190000], # Beijing Bites\n",
    "    [3, 200000, 230000, 260000, 300000], # Pizza Hub\n",
    "    [4, 180000, 210000, 240000, 270000], # Burger Point\n",
    "    [5, 160000, 185000, 205000, 230000]  # Chai Point\n",
    "])\n",
    "\n",
    "print(f\"Sales Data Shape: {sales_data.shape}\")\n",
    "\n",
    "# sales data of first three restaurants:\n",
    "print(f\"\\nSales data of first three restaurants: \\n{sales_data[:3]}\")\n",
    "\n",
    "# returning all the sales without restaurant id:\n",
    "print(f\"\\nRestaurant sales without id: \\n{sales_data[:, 1:]}\")"
   ]
  },
  {
   "cell_type": "markdown",
   "id": "060ec093",
   "metadata": {},
   "source": [
    "#### ***Total Sales per Year***"
   ]
  },
  {
   "cell_type": "code",
   "execution_count": 32,
   "id": "667618a0",
   "metadata": {},
   "outputs": [
    {
     "name": "stdout",
     "output_type": "stream",
     "text": [
      "Total sales data per year: [ 810000  945000 1085000 1240000]\n",
      "Total sales per restaurants: [800000 610000 990000 900000 780000]\n",
      "\n",
      "Total sales ever made: 4080000\n"
     ]
    }
   ],
   "source": [
    "year_wise_total = np.sum(sales_data[:, 1:], axis=0)\n",
    "print(f\"Total sales data per year: {year_wise_total}\")\n",
    "\n",
    "rest_wise_total = np.sum(sales_data[:, 1:], axis=1)\n",
    "print(f\"Total sales per restaurants: {rest_wise_total}\")\n",
    "\n",
    "print(f\"\\nTotal sales ever made: {np.sum(year_wise_total)}\")"
   ]
  },
  {
   "cell_type": "markdown",
   "id": "2ac72dbe",
   "metadata": {},
   "source": [
    "#### ***Minimum/Maximum Sales per Year***"
   ]
  },
  {
   "cell_type": "code",
   "execution_count": 23,
   "id": "3a034621",
   "metadata": {},
   "outputs": [
    {
     "name": "stdout",
     "output_type": "stream",
     "text": [
      "Minimum sales per year: [120000 140000 160000 190000]\n",
      "Minimum sales overall: 120000\n",
      "\n",
      "Maximum sales per year: [200000 230000 260000 300000]\n",
      "Maximum sales overall: 300000\n"
     ]
    }
   ],
   "source": [
    "min_year_wise_sales = np.min(sales_data[:,1:], axis=0)\n",
    "\n",
    "print(f\"Minimum sales per year: {min_year_wise_sales}\")\n",
    "print(f\"Minimum sales overall: {np.min(min_year_wise_sales)}\")\n",
    "\n",
    "max_year_wise_sales = np.max(sales_data[:,1:], axis=0)\n",
    "\n",
    "print(f\"\\nMaximum sales per year: {max_year_wise_sales}\")\n",
    "print(f\"Maximum sales overall: {np.max(max_year_wise_sales)}\")"
   ]
  },
  {
   "cell_type": "code",
   "execution_count": 25,
   "id": "37fa393d",
   "metadata": {},
   "outputs": [
    {
     "name": "stdout",
     "output_type": "stream",
     "text": [
      "Minimun sales for restaurants over years: [150000 120000 200000 180000 160000]\n",
      "Maximum sales for restaurants over years: [250000 190000 300000 270000 230000]\n"
     ]
    }
   ],
   "source": [
    "min_sales_for_rest = np.min(sales_data[:,1:], axis=1)\n",
    "print(f\"Minimun sales for restaurants over years: {min_sales_for_rest}\")\n",
    "\n",
    "max_sales_for_rest = np.max(sales_data[:,1:], axis=1)\n",
    "print(f\"Maximum sales for restaurants over years: {max_sales_for_rest}\")"
   ]
  },
  {
   "cell_type": "markdown",
   "id": "a487b2aa",
   "metadata": {},
   "source": [
    "#### ***Average Sales per Year***"
   ]
  },
  {
   "cell_type": "code",
   "execution_count": 29,
   "id": "e66c0278",
   "metadata": {},
   "outputs": [
    {
     "name": "stdout",
     "output_type": "stream",
     "text": [
      "Averages sales made per year: [162000. 189000. 217000. 248000.]\n",
      "Averages sales made by restaurants over years: [200000. 152500. 247500. 225000. 195000.]\n"
     ]
    }
   ],
   "source": [
    "avg_year_wise_sales = np.average(sales_data[:,1:], axis=0)\n",
    "print(f\"Averages sales made per year: {avg_year_wise_sales}\")\n",
    "\n",
    "avg_rest_sales = np.average(sales_data[:,1:], axis=1)\n",
    "print(f\"Averages sales made by restaurants over years: {avg_rest_sales}\")"
   ]
  },
  {
   "cell_type": "code",
   "execution_count": 33,
   "id": "02dddd19",
   "metadata": {},
   "outputs": [
    {
     "name": "stdout",
     "output_type": "stream",
     "text": [
      "Cumulative sales for every restaurant: \n",
      "[[150000 330000 550000 800000]\n",
      " [120000 260000 420000 610000]\n",
      " [200000 430000 690000 990000]\n",
      " [180000 390000 630000 900000]\n",
      " [160000 345000 550000 780000]]\n"
     ]
    }
   ],
   "source": [
    "cumulative_rest_sales = np.cumsum(sales_data[:,1:], axis=1)\n",
    "print(f\"Cumulative sales for every restaurant: \\n{cumulative_rest_sales}\")"
   ]
  },
  {
   "cell_type": "code",
   "execution_count": null,
   "id": "20a184b6",
   "metadata": {},
   "outputs": [
    {
     "data": {
      "image/png": "[encoded data removed]",
      "text/plain": [
       "<Figure size 600x300 with 1 Axes>"
      ]
     },
     "metadata": {},
     "output_type": "display_data"
    }
   ],
   "source": [
    "# ploting average sales for restaurants accross years\n",
    "plt.figure(figsize=(6,3))\n",
    "plt.title(\"Average Sales of Restaurants over Years\")\n",
    "plt.plot(np.mean(cumulative_rest_sales, axis=0))\n",
    "plt.xlabel(\"Years\")\n",
    "plt.ylabel(\"Sales\")\n",
    "plt.grid(True)\n",
    "plt.show()"
   ]
  },
  {
   "cell_type": "markdown",
   "id": "8ee8c4de",
   "metadata": {},
   "source": [
    "### **Vector Operations**"
   ]
  },
  {
   "cell_type": "code",
   "execution_count": 42,
   "id": "c858445d",
   "metadata": {},
   "outputs": [
    {
     "name": "stdout",
     "output_type": "stream",
     "text": [
      "Vector summation: [ 7  9 11 13 15]\n",
      "Product of vectors: [ 6 14 24 36 50]\n",
      "Dot product of vectors: 130\n"
     ]
    }
   ],
   "source": [
    "vector_1 = np.array([1,2,3,4,5])\n",
    "vector_2 = [6,7,8,9,10]\n",
    "\n",
    "# adding two vectors:\n",
    "print(f\"Vector summation: {vector_1 + vector_2}\")\n",
    "\n",
    "# multiplying two vectors:\n",
    "print(f\"Product of vectors: {vector_2 * vector_1}\")\n",
    "\n",
    "# dot product of vectors:\n",
    "print(f\"Dot product of vectors: {np.dot(vector_1, vector_2)}\")\n",
    "\n",
    "arr_1 = np.array([[1,2,3],\n",
    "                  [4,5,6]])\n",
    "arr_2 = np.array([[7,8,9],\n",
    "                  [10,11,12]])"
   ]
  },
  {
   "cell_type": "markdown",
   "id": "25bb949c",
   "metadata": {},
   "source": [
    "#### ***Vectorized Operations***\n",
    "- **Vectorized operations** allow you to perform **element-wise operations** on entire arrays **without using loops**.\n",
    "- They are faster, cleaner, and more efficient by leveraging **low-level C optimizations** under the hood.\n",
    "- Benefits:\n",
    "    - No explicit loops\n",
    "    - Faster execution than standard Python lists\n",
    "    - Cleaner and more readable code\n",
    "> Use vectorized operations wherever possible to optimize numerical code."
   ]
  },
  {
   "cell_type": "code",
   "execution_count": 43,
   "id": "29c07661",
   "metadata": {},
   "outputs": [
    {
     "name": "stdout",
     "output_type": "stream",
     "text": [
      "Vectorized upper names: ['Indian' 'Chinese' 'Continental' 'Mexican' 'Italian']\n"
     ]
    }
   ],
   "source": [
    "restaurant_types = np.array(['indian', 'chinese', 'continental', 'mexican', 'italian'])\n",
    "\n",
    "vectorized_upper = np.vectorize(str.capitalize)\n",
    "print(f\"Vectorized upper names: {vectorized_upper(restaurant_types)}\")"
   ]
  },
  {
   "cell_type": "markdown",
   "id": "8d081d04",
   "metadata": {},
   "source": [
    "### **Broadcasting**\n",
    "- **Broadcasting** is a set of rules that NumPy uses to perform **arithmetic operations on arrays of different shapes**.\n",
    "- It **automatically expands** smaller arrays so they match the shape of larger ones — without making extra copies.\n",
    "- **Broadcasting Rules**:\n",
    "    - If arrays differ in rank, pad the smaller one with 1s on the left.\n",
    "    - Dimensions must match or one of them must be 1.\n",
    "    - It will raise an error if shapes aren't compatible\n",
    "- **Tip**: Broadcasting avoids memory overhead by not copying data, making operations both fast and efficient."
   ]
  },
  {
   "cell_type": "code",
   "execution_count": 45,
   "id": "6280c24b",
   "metadata": {},
   "outputs": [
    {
     "name": "stdout",
     "output_type": "stream",
     "text": [
      "Monthly average sales: \n",
      "[[12500.   15000.   18333.33 20833.33]\n",
      " [10000.   11666.67 13333.33 15833.33]\n",
      " [16666.67 19166.67 21666.67 25000.  ]\n",
      " [15000.   17500.   20000.   22500.  ]\n",
      " [13333.33 15416.67 17083.33 19166.67]]\n"
     ]
    }
   ],
   "source": [
    "monthly_avg = np.round(sales_data[:,1:] / 12, 2)#scaler is broadcasted\n",
    "print(f\"Monthly average sales: \\n{monthly_avg}\")"
   ]
  }
 ],
 "metadata": {
  "kernelspec": {
   "display_name": ".venv",
   "language": "python",
   "name": "python3"
  },
  "language_info": {
   "codemirror_mode": {
    "name": "ipython",
    "version": 3
   },
   "file_extension": ".py",
   "mimetype": "text/x-python",
   "name": "python",
   "nbconvert_exporter": "python",
   "pygments_lexer": "ipython3",
   "version": "3.13.3"
  }
 },
 "nbformat": 4,
 "nbformat_minor": 5
}
